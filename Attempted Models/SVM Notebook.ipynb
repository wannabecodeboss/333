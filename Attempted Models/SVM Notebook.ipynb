{
  "nbformat": 4,
  "nbformat_minor": 0,
  "metadata": {
    "colab": {
      "provenance": []
    },
    "kernelspec": {
      "name": "python3",
      "display_name": "Python 3"
    },
    "language_info": {
      "name": "python"
    }
  },
  "cells": [
    {
      "cell_type": "markdown",
      "source": [
        "#Notebook containing the code to train and test an SVM"
      ],
      "metadata": {
        "id": "_pctKLIQqRzh"
      }
    },
    {
      "cell_type": "code",
      "execution_count": null,
      "metadata": {
        "id": "8KmzWnQGz9U1",
        "colab": {
          "base_uri": "https://localhost:8080/"
        },
        "outputId": "9b7db3d5-0e37-45ee-fbde-d1098671ee2a"
      },
      "outputs": [
        {
          "output_type": "stream",
          "name": "stdout",
          "text": [
            "NaN values found. Imputing with mean values.\n",
            "Accuracy: 0.38\n"
          ]
        }
      ],
      "source": [
        "import pandas as pd\n",
        "from sklearn.model_selection import train_test_split\n",
        "from sklearn import svm\n",
        "from sklearn.metrics import accuracy_score\n",
        "from sklearn.preprocessing import LabelEncoder\n",
        "from sklearn.impute import SimpleImputer\n",
        "import numpy as np\n",
        "\n",
        "def train_svm_classifier(data_path):\n",
        "    # Load your dataset\n",
        "    data = pd.read_csv(data_path)\n",
        "\n",
        "    # Convert labels to numeric if they are not already\n",
        "    le = LabelEncoder()\n",
        "    data['label'] = le.fit_transform(data['label'])\n",
        "\n",
        "    # Split data into features (X) and labels (y)\n",
        "    X = data.iloc[:, 1:]  # Assuming the first column is the label\n",
        "    y = data['label']\n",
        "\n",
        "        # Check for NaN values\n",
        "    if X.isnull().values.any():\n",
        "        print(\"NaN values found. Imputing with mean values.\")\n",
        "\n",
        "        # Create an imputer to replace NaNs with the mean\n",
        "        imputer = SimpleImputer(missing_values=np.nan, strategy='mean')\n",
        "\n",
        "        # Fit and transform the data\n",
        "        X = imputer.fit_transform(X)\n",
        "\n",
        "    # Split data into training and testing sets\n",
        "    X_train, X_test, y_train, y_test = train_test_split(X, y, test_size=0.2, random_state=42)\n",
        "\n",
        "    # Create an SVM classifier with the RBF kernel\n",
        "    clf = svm.SVC(kernel='rbf', gamma=0.5, C=1)\n",
        "\n",
        "    # Train the classifier\n",
        "    clf.fit(X_train, y_train)\n",
        "\n",
        "    # Make predictions on the test set\n",
        "    y_pred = clf.predict(X_test)\n",
        "\n",
        "    # Evaluate the accuracy of the classifier\n",
        "    accuracy = accuracy_score(y_test, y_pred)\n",
        "    print(f'Accuracy: {accuracy:.2f}')\n",
        "\n",
        "# Example usage\n",
        "train_svm_classifier('typedCSV.csv')\n"
      ]
    },
    {
      "cell_type": "code",
      "source": [
        "import pandas as pd\n",
        "import numpy as np\n",
        "from sklearn.model_selection import train_test_split, GridSearchCV\n",
        "from sklearn import svm\n",
        "from sklearn.metrics import accuracy_score, classification_report\n",
        "from sklearn.preprocessing import LabelEncoder, StandardScaler\n",
        "from sklearn.impute import KNNImputer\n",
        "\n",
        "def train_svm_classifier(data_path):\n",
        "    # Load your dataset\n",
        "    data = pd.read_csv(data_path)\n",
        "\n",
        "    # Convert labels to numeric if they are not already\n",
        "    le = LabelEncoder()\n",
        "    data['label'] = le.fit_transform(data['label'])\n",
        "\n",
        "    # Split data into features (X) and labels (y)\n",
        "    X = data.iloc[:, 1:]  # Assuming the first column is the label\n",
        "    y = data['label']\n",
        "\n",
        "    # Check for NaN values\n",
        "    if X.isnull().values.any():\n",
        "        print(\"NaN values found. Imputing with KNN.\")\n",
        "\n",
        "        # Create an imputer to replace NaNs with KNN\n",
        "        imputer = KNNImputer(n_neighbors=5)\n",
        "\n",
        "        # Fit and transform the data\n",
        "        X = imputer.fit_transform(X)\n",
        "\n",
        "    # Scale the data\n",
        "    scaler = StandardScaler()\n",
        "    X = scaler.fit_transform(X)\n",
        "\n",
        "    # Split data into training and testing sets\n",
        "    X_train, X_test, y_train, y_test = train_test_split(X, y, test_size=0.2, random_state=42)\n",
        "\n",
        "    # Define hyperparameter tuning space\n",
        "    param_grid = {\n",
        "        'C': [0.1, 1, 10],\n",
        "        'gamma': ['scale', 0.1, 1],\n",
        "        'kernel': ['linear', 'rbf']\n",
        "    }\n",
        "\n",
        "    # Perform grid search for hyperparameter tuning\n",
        "    clf = svm.SVC()\n",
        "    grid_search = GridSearchCV(estimator=clf, param_grid=param_grid, cv=3)\n",
        "    grid_search.fit(X_train, y_train)\n",
        "\n",
        "    # Get the best model\n",
        "    best_clf = grid_search.best_estimator_\n",
        "\n",
        "    # Make predictions on the test set\n",
        "    y_pred = best_clf.predict(X_test)\n",
        "\n",
        "    # Evaluate the accuracy and other metrics of the classifier\n",
        "    accuracy = accuracy_score(y_test, y_pred)\n",
        "    print(f'Accuracy: {accuracy:.2f}')\n",
        "    print(\"Classification Report:\\n\", classification_report(y_test, y_pred))\n",
        "\n",
        "# Example usage\n",
        "train_svm_classifier('typedCSV.csv')\n"
      ],
      "metadata": {
        "colab": {
          "base_uri": "https://localhost:8080/"
        },
        "id": "IE15-27esMKg",
        "outputId": "cfeee2c5-784a-466f-d63b-72645b86974f"
      },
      "execution_count": null,
      "outputs": [
        {
          "output_type": "stream",
          "name": "stdout",
          "text": [
            "NaN values found. Imputing with KNN.\n"
          ]
        }
      ]
    }
  ]
}