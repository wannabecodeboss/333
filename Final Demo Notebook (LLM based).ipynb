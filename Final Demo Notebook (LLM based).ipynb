{
 "cells": [
  {
   "cell_type": "markdown",
   "id": "8939fba9",
   "metadata": {},
   "source": [
    "## 0. Import Libraries\n",
    "#### _(for firebase web-app) - run only once_"
   ]
  },
  {
   "cell_type": "code",
   "execution_count": 52,
   "id": "bb6ba703",
   "metadata": {},
   "outputs": [],
   "source": [
    "# import firebase_admin\n",
    "# from firebase_admin import credentials, db\n",
    "# from datetime import datetime\n",
    "\n",
    "# # Initialize Firebase Admin SDK\n",
    "# cred = credentials.Certificate(\"D:\\Academics\\Semester VI\\ES 333 - Microprocessors and Embedded Systems\\PROJECT\\snippet.json\")\n",
    "# firebase_admin.initialize_app(cred, {\n",
    "#     'databaseURL': 'https://anpr-bg-default-rtdb.asia-southeast1.firebasedatabase.app/'\n",
    "# })"
   ]
  },
  {
   "cell_type": "markdown",
   "id": "ad467bc9",
   "metadata": {},
   "source": [
    "# 1. The LLM - performs OCR\n",
    "#### _(running on locally, and hosted on a server)_"
   ]
  },
  {
   "cell_type": "code",
   "execution_count": 53,
   "id": "0215bce7",
   "metadata": {},
   "outputs": [
    {
     "name": "stdout",
     "output_type": "stream",
     "text": [
      "BH01LV1947\n"
     ]
    }
   ],
   "source": [
    "import requests\n",
    "import base64\n",
    "import json\n",
    "import re\n",
    "from PIL import Image\n",
    "import io\n",
    "\n",
    "# Function to encode image to base64\n",
    "def encode_image_to_base64(image_path):\n",
    "    with open(image_path, \"rb\") as image_file:\n",
    "        return base64.b64encode(image_file.read()).decode('utf-8')\n",
    "\n",
    "# Path to your image file\n",
    "image_path = \"license_plate_image.jpg\"  # Replace with your actual image path\n",
    "\n",
    "# Encode the image to base64\n",
    "base64_image = encode_image_to_base64(image_path)\n",
    "\n",
    "# API request payload\n",
    "payload = {\n",
    "    \"model\": \"llava-phi-3-mini\",  # This matches the API identifier shown in LM Studio\n",
    "    \"messages\": [\n",
    "        {\n",
    "            \"role\": \"user\",\n",
    "            \"content\": [\n",
    "                {\"type\": \"text\", \"text\": \"Extract the text on the number plate. JUST ONE TEXT STRING.\"},\n",
    "                {\"type\": \"image_url\", \"image_url\": {\"url\": f\"data:image/png;base64,{base64_image}\"}}\n",
    "            ]\n",
    "        }\n",
    "    ],\n",
    "    \"temperature\": 0.2,  # Lower temperature for more deterministic results\n",
    "    \"max_tokens\": 1024,  # Adjust based on expected text length\n",
    "    \"stream\": False\n",
    "}\n",
    "\n",
    "# Send request to LM Studio server\n",
    "response = requests.post(\n",
    "    \"http://127.0.0.1:1234/v1/chat/completions\",\n",
    "    headers={\"Content-Type\": \"application/json\"},\n",
    "    json=payload\n",
    ")\n",
    "\n",
    "# Process the response\n",
    "if response.status_code == 200:\n",
    "    result = response.json()\n",
    "    full_response = result[\"choices\"][0][\"message\"][\"content\"]\n",
    "    \n",
    "    # Extract text inside quotes if present\n",
    "    quote_match = re.search(r'\"([^\"]*)\"', full_response)\n",
    "    if quote_match:\n",
    "        extracted_text = quote_match.group(1)\n",
    "    else:\n",
    "        # If no quotes found, clean the text by removing explanatory phrases\n",
    "        extracted_text = re.sub(r'(The license plate reads:|The license plate number is:|The text on the number plate is:|Number plate:|License plate:|The text is:|Text:)', '', full_response).strip()\n",
    "    if extracted_text[2:3]==\"O\":\n",
    "        extracted_text=extracted_text[0:2]+\"0\"+extracted_text[3:]\n",
    "    if extracted_text[2:4]==\"99\":\n",
    "        extracted_text=extracted_text[0:2]+\"9\"+extracted_text[4:]\n",
    "    print(extracted_text)\n",
    "else:\n",
    "    print(f\"Error: {response.status_code} - {response.text}\")"
   ]
  },
  {
   "cell_type": "markdown",
   "id": "d61c5723",
   "metadata": {},
   "source": [
    "## 2. Verifying if the String has reached WebApp"
   ]
  },
  {
   "cell_type": "code",
   "execution_count": 54,
   "id": "af9b0ff1",
   "metadata": {},
   "outputs": [
    {
     "name": "stderr",
     "output_type": "stream",
     "text": [
      "<>:6: SyntaxWarning: invalid escape sequence '\\A'\n",
      "<>:6: SyntaxWarning: invalid escape sequence '\\A'\n",
      "C:\\Users\\Akshat\\AppData\\Local\\Temp\\ipykernel_19564\\2066299066.py:6: SyntaxWarning: invalid escape sequence '\\A'\n",
      "  cred = credentials.Certificate(\"D:\\Academics\\Semester VI\\ES 333 - Microprocessors and Embedded Systems\\PROJECT\\snippet.json\")\n"
     ]
    },
    {
     "name": "stdout",
     "output_type": "stream",
     "text": [
      "Entry present at 26: {'entry': '12-04-2025 11:03:46', 'plate': 'BH01LV1947'}\n"
     ]
    }
   ],
   "source": [
    "import firebase_admin\n",
    "from firebase_admin import credentials, db\n",
    "import datetime\n",
    "\n",
    "# Path to your service account key\n",
    "cred = credentials.Certificate(\"D:\\Academics\\Semester VI\\ES 333 - Microprocessors and Embedded Systems\\PROJECT\\snippet.json\")\n",
    "\n",
    "# Initialize Firebase app\n",
    "# firebase_admin.initialize_app(cred, {\n",
    "#     'databaseURL': 'https://anpr-bg-default-rtdb.asia-southeast1.firebasedatabase.app/'\n",
    "# # })\n",
    "\n",
    "# Reference to 'outsiders' node\n",
    "ref = db.reference('outsiders')\n",
    "\n",
    "# Get current data and calculate next index\n",
    "current_data = ref.get()\n",
    "\n",
    "if isinstance(current_data, dict):\n",
    "    next_index = str(max(map(int, current_data.keys())) + 1)\n",
    "elif isinstance(current_data, list):\n",
    "    next_index = str(len(current_data))\n",
    "else:\n",
    "    next_index = \"1\"\n",
    "\n",
    "# Ask user for the new plate number\n",
    "plate_number = extracted_text\n",
    "\n",
    "# Data to upload\n",
    "new_entry = {\n",
    "    \"entry\": \"12-04-2025 \"+str(datetime.datetime.now().strftime(\"%H:%M:%S\"),),\n",
    "    \"plate\": plate_number\n",
    "}\n",
    "\n",
    "# Upload\n",
    "ref.child(next_index).set(new_entry)\n",
    "\n",
    "print(f\"Entry present at {next_index}: {new_entry}\")"
   ]
  },
  {
   "cell_type": "markdown",
   "id": "9af9cb69",
   "metadata": {},
   "source": [
    "## 3. Sending Detected String to STM"
   ]
  },
  {
   "cell_type": "code",
   "execution_count": 55,
   "id": "ac6edf22",
   "metadata": {},
   "outputs": [
    {
     "name": "stdout",
     "output_type": "stream",
     "text": [
      "Sent: BH01LV1947\n"
     ]
    }
   ],
   "source": [
    "import serial\n",
    "import time\n",
    "\n",
    "# Make sure vehicle_number is defined\n",
    "# You should use the license plate detected from your OCR code\n",
    "vehicle_number = extracted_text  # This should be defined in a previous cell\n",
    "\n",
    "# Open COM8 with 115200 baud\n",
    "ser = serial.Serial('COM8', 115200, timeout=1)\n",
    "time.sleep(2)  # Wait for the port to initialize\n",
    "\n",
    "# Send data\n",
    "message = extracted_text\n",
    "ser.write(message.encode())\n",
    "print(f\"Sent: {message.strip()}\")   \n",
    "ser.close()"
   ]
  }
 ],
 "metadata": {
  "kernelspec": {
   "display_name": "Python 3",
   "language": "python",
   "name": "python3"
  },
  "language_info": {
   "codemirror_mode": {
    "name": "ipython",
    "version": 3
   },
   "file_extension": ".py",
   "mimetype": "text/x-python",
   "name": "python",
   "nbconvert_exporter": "python",
   "pygments_lexer": "ipython3",
   "version": "3.13.1"
  }
 },
 "nbformat": 4,
 "nbformat_minor": 5
}
